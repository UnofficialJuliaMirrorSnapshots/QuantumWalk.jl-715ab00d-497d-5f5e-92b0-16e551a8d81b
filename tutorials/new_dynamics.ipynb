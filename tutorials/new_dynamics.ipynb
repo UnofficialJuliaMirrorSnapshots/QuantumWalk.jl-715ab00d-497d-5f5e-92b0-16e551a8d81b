{
 "cells": [
  {
   "cell_type": "markdown",
   "metadata": {},
   "source": [
    "# New dynamics"
   ]
  },
  {
   "cell_type": "markdown",
   "metadata": {},
   "source": [
    "## Loading modules"
   ]
  },
  {
   "cell_type": "code",
   "execution_count": null,
   "metadata": {},
   "outputs": [],
   "source": [
    "using QuantumWalk\n",
    "using LightGraphs\n",
    "using SparseArrays\n",
    "using LinearAlgebra"
   ]
  },
  {
   "cell_type": "markdown",
   "metadata": {},
   "source": [
    "## QWPeriod"
   ]
  },
  {
   "cell_type": "markdown",
   "metadata": {},
   "source": [
    "The main purpose of the package is to provide easy extendability of the code. As\n",
    "Quantum walk models needs to be adjusted to existing dynamics, the key is to defined\n",
    "an describe dynamic. As an example we propose an example of simple dynamic determining\n",
    "the period of the model.\n",
    "\n",
    "We start by introducing a general type representing the dynamic. "
   ]
  },
  {
   "cell_type": "code",
   "execution_count": null,
   "metadata": {
    "attributes": {
     "classes": [
      "julia"
     ],
     "id": ""
    }
   },
   "outputs": [],
   "source": [
    "struct QWPeriod{T} <: QWDynamics{T}\n",
    "  model::T\n",
    "  parameters::Dict{Symbol,Any}\n",
    "\n",
    "  function QWPeriod(model::T,\n",
    "                    parameters::Dict{Symbol}) where T<:QWModelDiscr\n",
    "    check_qwdynamics(QWPeriod, model, parameters)\n",
    "    new{T}(model, parameters)\n",
    "  end\n",
    "end"
   ]
  },
  {
   "cell_type": "markdown",
   "metadata": {},
   "source": [
    "We can see, that we need to implement `check_qwdynamics` function. Yet the function inherits the `execute` family functions from `QWDynamics` type. Note the type accepts only discrete quantum walk evolution - while the problem can be stated for the continuous-time as well, its implementation may be much more complicated.\n",
    "\n",
    "Let us define the basic function determining the period."
   ]
  },
  {
   "cell_type": "code",
   "execution_count": null,
   "metadata": {
    "attributes": {
     "classes": [
      "julia"
     ],
     "id": ""
    }
   },
   "outputs": [],
   "source": [
    "function determine_period(qwp::QWPeriod,\n",
    "                          init_state,\n",
    "                          state_diff_val::Real,\n",
    "                          tmax::Int=nv(graph(qwp)))\n",
    "  @assert tmax>0 \"maximal time needs to be greater than 0\"\n",
    "  state = evolve(qwp, init_state)\n",
    "  for t=1:tmax\n",
    "    if state_diff(qwp, state, init_state) < state_diff_val\n",
    "      return t\n",
    "    end\n",
    "    state = evolve(qwp, state)\n",
    "  end\n",
    "  return -1\n",
    "end"
   ]
  },
  {
   "cell_type": "markdown",
   "metadata": {},
   "source": [
    "The function above single execute the evolution as long as the upper limit for time is achieved, or the state is close to the initial state. according to the measure for `state_diff`.\n",
    "\n",
    "According to the definition above, the following function should be implemented for `Model`:\n",
    "* `QWPeriod(model::Model,...)`,\n",
    "* `check_dynamics(QWPeriod, model::Model, parameters::Dict{Symbol,Any})`,\n",
    "* `evolve(qwp::QWPeriod{<:Model}, state)`,\n",
    "* `state_diff(qwp::QWPeriod{<:Model}, state1::S, state2::S) where S`.\n",
    "Note that for `Szegedy` function `evolve` is already implemented for `QWDynamics`, and we can use\n",
    "private function for `check_dynamics` already implemented. \n",
    "\n",
    "The implementation of missing function for the Szegedy can have following form:"
   ]
  },
  {
   "cell_type": "code",
   "execution_count": null,
   "metadata": {
    "attributes": {
     "classes": [
      "julia"
     ],
     "id": ""
    }
   },
   "outputs": [],
   "source": [
    "function QWPeriod(szegedy::AbstractSzegedy)\n",
    "  operators = QuantumWalk.szegedy_walk_operators(szegedy)\n",
    "  parameters = Dict{Symbol,Any}(:operators => operators)\n",
    "  QWPeriod(szegedy, parameters)\n",
    "end\n",
    "\n",
    "function check_qwdynamics(::Type{QWPeriod}, szegedy::AbstractSzegedy, parameters::Dict{Symbol})\n",
    "  QuantumWalk.check_qwmodel(szegedy, parameters)\n",
    "end\n",
    "\n",
    "function state_diff(qwp::QWPeriod{<:AbstractSzegedy},\n",
    "                    state1::SparseVector{T},\n",
    "                    state2::SparseVector{T}) where T<:Number\n",
    "  1-abs(sum(state1 .* conj.(state2)))\n",
    "end"
   ]
  },
  {
   "cell_type": "markdown",
   "metadata": {},
   "source": [
    "Thanks to the code above we can check the periodicity for the `Szegedy` walk."
   ]
  },
  {
   "cell_type": "code",
   "execution_count": null,
   "metadata": {
    "attributes": {
     "classes": [
      "julia"
     ],
     "id": ""
    }
   },
   "outputs": [],
   "source": [
    "n = 20\n",
    "qwp = QWPeriod(Szegedy(barabasi_albert(n, 3)))\n",
    "determine_period(qwp, sparse(fill(1/n, n^2)), 0.01)\n",
    "state = sparse(randn(n^2))\n",
    "state /= norm(state)\n",
    "determine_period(qwp, state, 0.05, 8000)"
   ]
  },
  {
   "cell_type": "markdown",
   "metadata": {},
   "source": [
    "## Generalizing the periodic determination implementation"
   ]
  },
  {
   "cell_type": "markdown",
   "metadata": {},
   "source": [
    "Note that the periodic computation can be generalized for arbitrary quantum walk dynamics - we do not need to implement special type.\n",
    "            Hence we can actually implmement period determination in following form.\n",
    "            "
   ]
  },
  {
   "cell_type": "code",
   "execution_count": null,
   "metadata": {},
   "outputs": [],
   "source": [
    "function determine_period(qwp::QWDynamics{<:QWModelDiscr},\n",
    "                          init_state,\n",
    "                          state_diff_val::Real,\n",
    "                          tmax::Int=nv(graph(qwp)))\n",
    "  @assert tmax >0 \"maximal time needs to be greater than 0\"\n",
    "  state = evolve(qwp, init_state)\n",
    "  for t=1:tmax\n",
    "    if state_diff(qwp, state, init_state) < state_diff_val\n",
    "      return t\n",
    "    end\n",
    "    state = evolve(qwp, state)\n",
    "  end\n",
    "  return -1\n",
    "end\n",
    "\n",
    "function state_diff(qwp::QWDynamics{<:AbstractSzegedy},\n",
    "                    state1::AbstractArray{T},\n",
    "                    state2::AbstractArray{T}) where T<:Number\n",
    "  1-abs(sum(state1 .* conj.(state2)))\n",
    "end"
   ]
  },
  {
   "cell_type": "markdown",
   "metadata": {},
   "source": [
    "Thank to the function above we can calculate the periodicity of `QuantumSearch`."
   ]
  },
  {
   "cell_type": "code",
   "execution_count": null,
   "metadata": {},
   "outputs": [],
   "source": [
    "n = 20\n",
    "qwp = QWSearch(Szegedy(barabasi_albert(n, 3)), [1])\n",
    "println(\"Uniform state\")\n",
    "println(determine_period(qwp, sparse(fill(1/n, n^2)), 0.01))\n",
    "\n",
    "state = sparse(randn(n^2))\n",
    "state /= norm(state)\n",
    "println(\"Random state\")\n",
    "println(determine_period(qwp, state, 0.05, 8000))"
   ]
  },
  {
   "cell_type": "markdown",
   "metadata": {},
   "source": [
    "Furthermore, since for quantum spatial search there exists a special inital state, we can create additional function\n",
    "as follows.\n"
   ]
  },
  {
   "cell_type": "code",
   "execution_count": null,
   "metadata": {},
   "outputs": [],
   "source": [
    "function determine_period(qwp::QWSearch{<:QWModelDiscr},\n",
    "                          state_diff_val::Real,\n",
    "                          tmax::Int=nv(graph(qwp)))\n",
    "  determine_period(qwp, sparse(initial_state(qwp)), 0.05, 8000)\n",
    "end\n"
   ]
  },
  {
   "cell_type": "markdown",
   "metadata": {},
   "source": [
    "Which results in small usage improvement."
   ]
  },
  {
   "cell_type": "code",
   "execution_count": null,
   "metadata": {},
   "outputs": [],
   "source": [
    "qwp = QWSearch(Szegedy(CycleGraph(30)), [1])\n",
    "determine_period(qwp, 0.01)"
   ]
  }
 ],
 "metadata": {
  "kernelspec": {
   "display_name": "Julia 1.0.0",
   "language": "julia",
   "name": "julia-1.0"
  },
  "language_info": {
   "file_extension": ".jl",
   "mimetype": "application/julia",
   "name": "julia",
   "version": "1.0.0"
  }
 },
 "nbformat": 4,
 "nbformat_minor": 2
}

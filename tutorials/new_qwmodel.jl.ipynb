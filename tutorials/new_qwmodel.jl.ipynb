{
 "cells": [
  {
   "cell_type": "markdown",
   "metadata": {},
   "source": [
    "# New quantum walk model"
   ]
  },
  {
   "cell_type": "markdown",
   "metadata": {},
   "source": [
    "## Loading modules"
   ]
  },
  {
   "cell_type": "code",
   "execution_count": null,
   "metadata": {},
   "outputs": [],
   "source": [
    "using QuantumWalk\n",
    "using LightGraphs\n",
    "using SparseArrays\n",
    "import QuantumWalk: evolve, measure, check_qwdynamics, QWEvolution"
   ]
  },
  {
   "cell_type": "markdown",
   "metadata": {},
   "source": [
    "## Stochastic Walk"
   ]
  },
  {
   "cell_type": "markdown",
   "metadata": {},
   "source": [
    "We will define classical stochastic walk evolution. "
   ]
  },
  {
   "cell_type": "code",
   "execution_count": null,
   "metadata": {},
   "outputs": [],
   "source": [
    "abstract type AbstractStochastic <: QWModelDiscr end\n",
    "\n",
    "struct Stochastic{T<:AbstractMatrix{<:Real}, G<:SimpleGraph} <: AbstractStochastic\n",
    "  stochastic_matrix::T\n",
    "  graph::G\n",
    "end\n",
    "\n",
    "function stochastic_matrix(model::AbstractStochastic)\n",
    "  return model.stochastic_matrix\n",
    "end"
   ]
  },
  {
   "cell_type": "markdown",
   "metadata": {},
   "source": [
    "This is a basic description. Let us define functions needed for `QWEvolution`, i.e. `evolve`, `check_qwdynamics` and `measure`."
   ]
  },
  {
   "cell_type": "code",
   "execution_count": null,
   "metadata": {},
   "outputs": [],
   "source": [
    "function QWEvolution(stoch::AbstractStochastic)\n",
    "   parameters = Dict{Symbol,Any}(:stochastic => stochastic_matrix(stoch))\n",
    "   QWEvolution(stoch, parameters)\n",
    "end\n",
    "\n",
    "function check_qwdynamics(::Type{QWEvolution},\n",
    "                          abs_stoch::Stochastic,\n",
    "                          parameters::Dict{Symbol,Any})\n",
    "  @assert :stochastic ∈ keys(parameters) \"parameters needs to have key stochastic\"\n",
    "  n = nv(graph(abs_stoch))\n",
    "  @assert isa(parameters[:stochastic], AbstractMatrix{<:Real}) \"value for :stochastic needs to be sparse matrix with real numbers\"\n",
    "  @assert size(parameters[:stochastic], 1) == size(parameters[:stochastic], 2) \"Stochastic matrix needs to be square stochastic matrix\"\n",
    "  @assert mapslices(sum, parameters[:stochastic], 1)[1,:] ≈ ones(n) \"Stochastic matrix needs to be square stochastic matrix of order graph\"\n",
    "end\n",
    "\n",
    "function stochastic_evolution(s::AbstractMatrix{T}, v::AbstractVector{T}) where T<:Real\n",
    "  s*v\n",
    "end\n",
    "\n",
    "function evolve(qws::QWDynamics{<:AbstractStochastic}, state)\n",
    "  stochastic_evolution(parameters(qws)[:stochastic], state)\n",
    "end\n",
    "\n",
    "function measure(::QWDynamics{<:AbstractStochastic}, state::AbstractVector{<:Real})\n",
    "   return state\n",
    "end\n",
    "\n",
    "function measure(::QWDynamics{<:AbstractStochastic},\n",
    "                 state::AbstractVector{<:Real},\n",
    "                 vertices::Vector{Int})\n",
    "   return state[vertices]\n",
    "end"
   ]
  },
  {
   "cell_type": "markdown",
   "metadata": {},
   "source": [
    "Note the functions are defined mostly for `AbstractStochastic`. The definition above describes arbitrary random walk. Let us utilize the method for determining final state."
   ]
  },
  {
   "cell_type": "code",
   "execution_count": null,
   "metadata": {},
   "outputs": [],
   "source": [
    "n = 11\n",
    "a = adjacency_matrix(CycleGraph(n))/2\n",
    "qwe = QWEvolution(Stochastic(a, CycleGraph(n)));\n",
    "\n",
    "init_state = spzeros(Float64, n)\n",
    "init_state[1] = 1\n",
    "println(\"10 steps\")\n",
    "println(execute(qwe, init_state, 10))\n",
    "println(\"100 steps\")\n",
    "println(execute(qwe, init_state, 100))\n",
    "println(\"1000 steps\")\n",
    "println(execute(qwe, init_state, 1000))"
   ]
  },
  {
   "cell_type": "markdown",
   "metadata": {},
   "source": [
    "We see, that the probability converge to the uniform state as expected."
   ]
  },
  {
   "cell_type": "markdown",
   "metadata": {},
   "source": [
    "Note there is a very special case of random walk, where each neighbouring node is chosen with equal probability. We can easily define such scenario, with the functions defined above, as they were defined for `AbstractStochastic`."
   ]
  },
  {
   "cell_type": "code",
   "execution_count": null,
   "metadata": {},
   "outputs": [],
   "source": [
    "struct UniformStochastic{G<:SimpleGraph} <: AbstractStochastic\n",
    "  graph::G\n",
    "end\n",
    "\n",
    "function stochastic_matrix(model::UniformStochastic)\n",
    "  return QuantumWalk.default_stochastic(graph(model))\n",
    "end\n",
    "\n",
    "n = 11\n",
    "qwe = QWEvolution(UniformStochastic(CycleGraph(n)));\n",
    "\n",
    "init_state = spzeros(Float64, n)\n",
    "init_state[1] = 1\n",
    "println(\"10 steps\")\n",
    "println(execute(qwe, init_state, 10))\n",
    "println(\"100 steps\")\n",
    "println(execute(qwe, init_state, 100))\n",
    "println(\"1000 steps\")\n",
    "println(execute(qwe, init_state, 1000))"
   ]
  },
  {
   "cell_type": "markdown",
   "metadata": {},
   "source": [
    "Note we can analogically define `QWSearch` for the model above."
   ]
  }
 ],
 "metadata": {
  "kernelspec": {
   "display_name": "Julia 1.0.0",
   "language": "julia",
   "name": "julia-1.0"
  },
  "language_info": {
   "file_extension": ".jl",
   "mimetype": "application/julia",
   "name": "julia",
   "version": "1.0.0"
  }
 },
 "nbformat": 4,
 "nbformat_minor": 2
}

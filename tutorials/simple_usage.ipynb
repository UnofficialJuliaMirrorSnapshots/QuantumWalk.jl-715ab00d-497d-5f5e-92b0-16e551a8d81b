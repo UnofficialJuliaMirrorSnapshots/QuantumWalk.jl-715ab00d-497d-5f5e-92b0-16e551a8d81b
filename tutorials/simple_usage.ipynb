{
 "cells": [
  {
   "cell_type": "markdown",
   "metadata": {},
   "source": [
    "# Simple examples"
   ]
  },
  {
   "cell_type": "markdown",
   "metadata": {},
   "source": [
    "## Loading modules"
   ]
  },
  {
   "cell_type": "code",
   "execution_count": 7,
   "metadata": {},
   "outputs": [],
   "source": [
    "using QuantumWalk\n",
    "using LightGraphs\n"
   ]
  },
  {
   "cell_type": "markdown",
   "metadata": {},
   "source": [
    "## QWEvolution"
   ]
  },
  {
   "cell_type": "markdown",
   "metadata": {},
   "source": [
    "As a first example we will make a simple quantum walk evolution based on CTQW model. Thanks to `QWEvolution` we can check the transport on complete graph as described in Sec. 4.1.3 in [here](https://www.sciencedirect.com/science/article/pii/S0370157311000184)"
   ]
  },
  {
   "cell_type": "code",
   "execution_count": 8,
   "metadata": {},
   "outputs": [
    {
     "name": "stdout",
     "output_type": "stream",
     "text": [
      "Revival for time 1.2566370614359172 (should be 1)\n",
      "1.0000000000000004\n",
      "1.0000000000000004\n",
      "Revival for time 1.2566370614359172 (should be 0.16)\n",
      "0.16000000000000003\n",
      "0.16000000000000003\n"
     ]
    }
   ],
   "source": [
    "n = 5\n",
    "qwe = QWEvolution(CTQW(CompleteGraph(n), :adjacency))\n",
    "\n",
    "init_state = zeros(Float64, n)\n",
    "init_state[1] = 1.\n",
    "\n",
    "t_revival = 2*pi/n\n",
    "println(\"Revival for time $t_revival (should be 1)\")\n",
    "println(measure(qwe, evolve(qwe, init_state, t_revival))[1])\n",
    "println(execute_single_measured(qwe, init_state, t_revival)[1])\n",
    "\n",
    "t_transport = pi/n\n",
    "println(\"Revival for time $t_revival (should be $(4/n^2))\")\n",
    "println(measure(qwe, evolve(qwe, init_state, t_transport))[2])\n",
    "println(execute_single_measured(qwe, init_state, t_transport)[2])"
   ]
  },
  {
   "cell_type": "markdown",
   "metadata": {},
   "source": [
    "We can see that there are two alternative ways of determining the transport probability."
   ]
  },
  {
   "cell_type": "markdown",
   "metadata": {},
   "source": [
    "## QWSearch"
   ]
  },
  {
   "cell_type": "markdown",
   "metadata": {},
   "source": [
    "Suppose that we have complete graph again and we plan to determine the best measurement time to optimize  expected time $t/p(t)$ for Szegedy . We can utilize already implemented functions for maximizing such."
   ]
  },
  {
   "cell_type": "code",
   "execution_count": 3,
   "metadata": {},
   "outputs": [],
   "source": [
    "n = 200\n",
    "qws = QWSearch(Szegedy(CompleteGraph(n)), [1], 1);"
   ]
  },
  {
   "cell_type": "markdown",
   "metadata": {},
   "source": [
    "The extra value at the end refers to the penalty, which needs to be added to $t$ in numerator in order to detach minimum from 0. Now we can use function for determining minimum."
   ]
  },
  {
   "cell_type": "code",
   "execution_count": 4,
   "metadata": {},
   "outputs": [
    {
     "name": "stdout",
     "output_type": "stream",
     "text": [
      "[0.500016]\n",
      "6\n"
     ]
    }
   ],
   "source": [
    "best_state = maximize_quantum_search(qws)\n",
    "println(probability(best_state))\n",
    "println(runtime(best_state))"
   ]
  },
  {
   "cell_type": "markdown",
   "metadata": {},
   "source": [
    "Note that the success probability does not achieve 1 which is typical for optimizing quantum spatial search. Contary we can maximize success probability."
   ]
  },
  {
   "cell_type": "code",
   "execution_count": 5,
   "metadata": {},
   "outputs": [
    {
     "ename": "InterruptException",
     "evalue": "InterruptException:",
     "output_type": "error",
     "traceback": [
      "InterruptException:",
      "",
      "Stacktrace:",
      " [1] Type at ./boot.jl:394 [inlined]",
      " [2] Type at ./boot.jl:403 [inlined]",
      " [3] similar at ./array.jl:332 [inlined]",
      " [4] similar at ./abstractarray.jl:575 [inlined]",
      " [5] * at /buildworker/worker/package_linux64/build/usr/share/julia/stdlib/v1.0/SparseArrays/src/linalg.jl:52 [inlined]",
      " [6] _evolve_szegedy(::SparseMatrixCSC{Float64,Int64}, ::SparseMatrixCSC{Float64,Int64}, ::Array{Float64,1}) at /home/adam/.julia/dev/QuantumWalk/src/qwmodels/szegedy/szegedy_evolution.jl:37",
      " [7] evolve(::QWSearch{Szegedy{SimpleGraph{Int64},Float64},Int64}, ::Array{Float64,1}) at /home/adam/.julia/dev/QuantumWalk/src/qwmodels/szegedy/szegedy_evolution.jl:24",
      " [8] evolve(::QWSearch{Szegedy{SimpleGraph{Int64},Float64},Int64}, ::QSearchState{Array{Float64,1},Int64,Int64}) at /home/adam/.julia/dev/QuantumWalk/src/qwdynamics/qwsearch/qwsearch_util.jl:15",
      " [9] macro expansion at ./logging.jl:310 [inlined]",
      " [10] maximize_quantum_search(::QWSearch{Szegedy{SimpleGraph{Int64},Float64},Int64}, ::Int64, ::Symbol) at /home/adam/.julia/dev/QuantumWalk/src/qwdynamics/qwsearch/maximizing_function.jl:128",
      " [11] top-level scope at In[5]:1"
     ]
    }
   ],
   "source": [
    "best_state = maximize_quantum_search(qws, n, :maxtimeprob)\n",
    "println(probability(best_state))\n",
    "println(runtime(best_state))"
   ]
  },
  {
   "cell_type": "markdown",
   "metadata": {},
   "source": [
    "We can see that mode has impact on the result. Note there is analogical optimizing function for continuous-time quantum spatial search."
   ]
  }
 ],
 "metadata": {
  "kernelspec": {
   "display_name": "Julia 1.0.0",
   "language": "julia",
   "name": "julia-1.0"
  },
  "language_info": {
   "file_extension": ".jl",
   "mimetype": "application/julia",
   "name": "julia",
   "version": "1.0.0"
  }
 },
 "nbformat": 4,
 "nbformat_minor": 2
}
